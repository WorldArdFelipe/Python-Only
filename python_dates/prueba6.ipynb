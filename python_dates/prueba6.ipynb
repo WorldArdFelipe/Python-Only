{
 "cells": [
  {
   "cell_type": "code",
   "execution_count": 8,
   "metadata": {},
   "outputs": [
    {
     "name": "stdout",
     "output_type": "stream",
     "text": [
      "Sexo : male\n",
      "Tripulantes Muertos: 109 \n",
      "Trupilantes Vivos 468\n"
     ]
    }
   ],
   "source": [
    "import pandas as ps\n",
    "import dates_module as dm\n",
    "\n",
    "def get_sex_number(data):\n",
    "    if data == \"male\":\n",
    "        return 0\n",
    "    return 1\n",
    "\n",
    "def get_descript_survived(data):\n",
    "    (dead,survived) = data\n",
    "    print(\"Tripulantes Muertos: {} \\nTrupilantes Vivos {}\".format(dead,survived))\n",
    "\n",
    "def get_descript_survived_sex(data,sex):\n",
    "    (dead,survived) = data\n",
    "    print(\"Sexo : {}\\nTripulantes Muertos: {} \\nTrupilantes Vivos {}\".format(sex,dead,survived))\n",
    "\n",
    "\n",
    "NAME_ARCHIVE = \"titanic.csv\"\n",
    "dates = dm.load_archive(NAME_ARCHIVE,\"csv\")\n",
    "\n",
    "#crear nueva columna y aplicar valor nuevo\n",
    "dates[\"sexo\"] = dates[\"Sex\"].apply(get_sex_number)\n",
    "\n",
    "#seleccion de x columnas\n",
    "dates = dates[[\"Pclass\",\"Survived\",\"Name\",\"Sex\",\"sexo\"]]\n",
    "\n",
    "sex = \"male\"\n",
    "\n",
    "#filtro de datos\n",
    "dates = dates.loc[(dates[\"Sex\"] == sex)]\n",
    "\n",
    "get_descript_survived_sex(dm.get_value_counts(dates.Survived),sex)\n",
    "\n",
    "\n",
    "\n"
   ]
  },
  {
   "cell_type": "code",
   "execution_count": 16,
   "metadata": {},
   "outputs": [
    {
     "data": {
      "text/html": [
       "<div>\n",
       "<style scoped>\n",
       "    .dataframe tbody tr th:only-of-type {\n",
       "        vertical-align: middle;\n",
       "    }\n",
       "\n",
       "    .dataframe tbody tr th {\n",
       "        vertical-align: top;\n",
       "    }\n",
       "\n",
       "    .dataframe thead th {\n",
       "        text-align: right;\n",
       "    }\n",
       "</style>\n",
       "<table border=\"1\" class=\"dataframe\">\n",
       "  <thead>\n",
       "    <tr style=\"text-align: right;\">\n",
       "      <th></th>\n",
       "      <th>Pclass</th>\n",
       "      <th>Survived</th>\n",
       "      <th>Name</th>\n",
       "      <th>Sex</th>\n",
       "      <th>sexo</th>\n",
       "    </tr>\n",
       "  </thead>\n",
       "  <tbody>\n",
       "    <tr>\n",
       "      <th>0</th>\n",
       "      <td>3</td>\n",
       "      <td>0</td>\n",
       "      <td>Braund, Mr. Owen Harris</td>\n",
       "      <td>male</td>\n",
       "      <td>0</td>\n",
       "    </tr>\n",
       "    <tr>\n",
       "      <th>1</th>\n",
       "      <td>1</td>\n",
       "      <td>1</td>\n",
       "      <td>Cumings, Mrs. John Bradley (Florence Briggs Th...</td>\n",
       "      <td>female</td>\n",
       "      <td>1</td>\n",
       "    </tr>\n",
       "    <tr>\n",
       "      <th>2</th>\n",
       "      <td>3</td>\n",
       "      <td>1</td>\n",
       "      <td>Heikkinen, Miss. Laina</td>\n",
       "      <td>female</td>\n",
       "      <td>1</td>\n",
       "    </tr>\n",
       "  </tbody>\n",
       "</table>\n",
       "</div>"
      ],
      "text/plain": [
       "   Pclass  Survived                                               Name  \\\n",
       "0       3         0                            Braund, Mr. Owen Harris   \n",
       "1       1         1  Cumings, Mrs. John Bradley (Florence Briggs Th...   \n",
       "2       3         1                             Heikkinen, Miss. Laina   \n",
       "\n",
       "      Sex  sexo  \n",
       "0    male     0  \n",
       "1  female     1  \n",
       "2  female     1  "
      ]
     },
     "execution_count": 16,
     "metadata": {},
     "output_type": "execute_result"
    }
   ],
   "source": [
    "dates.head(3)"
   ]
  },
  {
   "cell_type": "code",
   "execution_count": 10,
   "metadata": {},
   "outputs": [
    {
     "name": "stdout",
     "output_type": "stream",
     "text": [
      "<class 'pandas.core.frame.DataFrame'>\n",
      "RangeIndex: 891 entries, 0 to 890\n",
      "Data columns (total 12 columns):\n",
      " #   Column       Non-Null Count  Dtype  \n",
      "---  ------       --------------  -----  \n",
      " 0   PassengerId  891 non-null    int64  \n",
      " 1   Survived     891 non-null    int64  \n",
      " 2   Pclass       891 non-null    int64  \n",
      " 3   Name         891 non-null    object \n",
      " 4   Sex          891 non-null    object \n",
      " 5   Age          714 non-null    float64\n",
      " 6   SibSp        891 non-null    int64  \n",
      " 7   Parch        891 non-null    int64  \n",
      " 8   Ticket       891 non-null    object \n",
      " 9   Fare         891 non-null    float64\n",
      " 10  Cabin        204 non-null    object \n",
      " 11  Embarked     889 non-null    object \n",
      "dtypes: float64(2), int64(5), object(5)\n",
      "memory usage: 83.7+ KB\n"
     ]
    }
   ],
   "source": [
    "dm.get_dates_info(dates)"
   ]
  }
 ],
 "metadata": {
  "kernelspec": {
   "display_name": "Python 3.10.1 64-bit",
   "language": "python",
   "name": "python3"
  },
  "language_info": {
   "codemirror_mode": {
    "name": "ipython",
    "version": 3
   },
   "file_extension": ".py",
   "mimetype": "text/x-python",
   "name": "python",
   "nbconvert_exporter": "python",
   "pygments_lexer": "ipython3",
   "version": "3.10.1"
  },
  "orig_nbformat": 4,
  "vscode": {
   "interpreter": {
    "hash": "369f2c481f4da34e4445cda3fffd2e751bd1c4d706f27375911949ba6bb62e1c"
   }
  }
 },
 "nbformat": 4,
 "nbformat_minor": 2
}
