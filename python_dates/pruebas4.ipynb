{
 "cells": [
  {
   "cell_type": "code",
   "execution_count": 8,
   "metadata": {},
   "outputs": [
    {
     "data": {
      "text/html": [
       "<div>\n",
       "<style scoped>\n",
       "    .dataframe tbody tr th:only-of-type {\n",
       "        vertical-align: middle;\n",
       "    }\n",
       "\n",
       "    .dataframe tbody tr th {\n",
       "        vertical-align: top;\n",
       "    }\n",
       "\n",
       "    .dataframe thead th {\n",
       "        text-align: right;\n",
       "    }\n",
       "</style>\n",
       "<table border=\"1\" class=\"dataframe\">\n",
       "  <thead>\n",
       "    <tr style=\"text-align: right;\">\n",
       "      <th></th>\n",
       "      <th>Fecha de creacion</th>\n",
       "      <th>Argentina</th>\n",
       "      <th>Brasil</th>\n",
       "      <th>Chile</th>\n",
       "      <th>Peru</th>\n",
       "      <th>Subtotal</th>\n",
       "    </tr>\n",
       "  </thead>\n",
       "  <tbody>\n",
       "  </tbody>\n",
       "</table>\n",
       "</div>"
      ],
      "text/plain": [
       "Empty DataFrame\n",
       "Columns: [Fecha de creacion, Argentina, Brasil, Chile, Peru, Subtotal]\n",
       "Index: []"
      ]
     },
     "execution_count": 8,
     "metadata": {},
     "output_type": "execute_result"
    }
   ],
   "source": [
    "import pandas as pd\n",
    "import dates_module as dm\n",
    "\n",
    "NAME_ARCHIVE = \"EMPRENDEDORES_-_PUENTE_NACIONAL.csv\"\n",
    "NAME_ARCHIVE1 = \"prueba_tecnica.xlsx\"\n",
    "\n",
    "dates = dm.load_archive(NAME_ARCHIVE1,\"excel\",1)\n",
    "dates = dm.set_delete_column(dates,[0])\n",
    "dm.set_change_name_column(dates,{\"País →\":\"Fecha de creacion\"})\n",
    "dm.set_delete_duplicate(dates)\n",
    "count_na = dm.get_count_total_dates_na(dates)\n",
    "dates = dm.set_delete_column_is_na(dates)\n",
    "dm.get_only_dates_na(dates)\n",
    "\n",
    "\n"
   ]
  }
 ],
 "metadata": {
  "kernelspec": {
   "display_name": "Python 3.10.1 64-bit",
   "language": "python",
   "name": "python3"
  },
  "language_info": {
   "codemirror_mode": {
    "name": "ipython",
    "version": 3
   },
   "file_extension": ".py",
   "mimetype": "text/x-python",
   "name": "python",
   "nbconvert_exporter": "python",
   "pygments_lexer": "ipython3",
   "version": "3.10.1"
  },
  "orig_nbformat": 4,
  "vscode": {
   "interpreter": {
    "hash": "369f2c481f4da34e4445cda3fffd2e751bd1c4d706f27375911949ba6bb62e1c"
   }
  }
 },
 "nbformat": 4,
 "nbformat_minor": 2
}
